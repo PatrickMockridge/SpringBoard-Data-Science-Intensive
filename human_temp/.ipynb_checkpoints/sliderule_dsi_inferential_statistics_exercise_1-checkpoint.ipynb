{
 "cells": [
  {
   "cell_type": "markdown",
   "metadata": {},
   "source": [
    "# What is the True Normal Human Body Temperature? \n",
    "\n",
    "#### Background\n",
    "\n",
    "The mean normal body temperature was held to be 37$^{\\circ}$C or 98.6$^{\\circ}$F for more than 120 years since it was first conceptualized and reported by Carl Wunderlich in a famous 1868 book. But, is this value statistically correct?"
   ]
  },
  {
   "cell_type": "markdown",
   "metadata": {},
   "source": [
    "<div class=\"span5 alert alert-info\">\n",
    "<h3>Exercises</h3>\n",
    "\n",
    "<p>In this exercise, you will analyze a dataset of human body temperatures and employ the concepts of hypothesis testing, confidence intervals, and statistical significance.</p>\n",
    "\n",
    "<p>Answer the following questions <b>in this notebook below and submit to your Github account</b>.</p> \n",
    "\n",
    "<ol>\n",
    "<li>  Is the distribution of body temperatures normal? \n",
    "    <ul>\n",
    "    <li> Although this is not a requirement for CLT to hold (read CLT carefully), it gives us some peace of mind that the population may also be normally distributed if we assume that this sample is representative of the population.\n",
    "    </ul>\n",
    "<li>  Is the sample size large? Are the observations independent?\n",
    "    <ul>\n",
    "    <li> Remember that this is a condition for the CLT, and hence the statistical tests we are using, to apply.\n",
    "    </ul>\n",
    "<li>  Is the true population mean really 98.6 degrees F?\n",
    "    <ul>\n",
    "    <li> Would you use a one-sample or two-sample test? Why?\n",
    "    <li> In this situation, is it appropriate to use the $t$ or $z$ statistic? \n",
    "    <li> Now try using the other test. How is the result be different? Why?\n",
    "    </ul>\n",
    "<li>  At what temperature should we consider someone's temperature to be \"abnormal\"?\n",
    "    <ul>\n",
    "    <li> Start by computing the margin of error and confidence interval.\n",
    "    </ul>\n",
    "<li>  Is there a significant difference between males and females in normal temperature?\n",
    "    <ul>\n",
    "    <li> What test did you use and why?\n",
    "    <li> Write a story with your conclusion in the context of the original problem.\n",
    "    </ul>\n",
    "</ol>\n",
    "\n",
    "You can include written notes in notebook cells using Markdown: \n",
    "   - In the control panel at the top, choose Cell > Cell Type > Markdown\n",
    "   - Markdown syntax: http://nestacms.com/docs/creating-content/markdown-cheat-sheet\n",
    "\n",
    "#### Resources\n",
    "\n",
    "+ Information and data sources: http://www.amstat.org/publications/jse/datasets/normtemp.txt, http://www.amstat.org/publications/jse/jse_data_archive.htm\n",
    "+ Markdown syntax: http://nestacms.com/docs/creating-content/markdown-cheat-sheet\n",
    "\n",
    "****"
   ]
  },
  {
   "cell_type": "code",
   "execution_count": 106,
   "metadata": {
    "collapsed": false
   },
   "outputs": [
    {
     "data": {
      "text/html": [
       "<div>\n",
       "<table border=\"1\" class=\"dataframe\">\n",
       "  <thead>\n",
       "    <tr style=\"text-align: right;\">\n",
       "      <th></th>\n",
       "      <th>temperature</th>\n",
       "      <th>gender</th>\n",
       "      <th>heart_rate</th>\n",
       "    </tr>\n",
       "  </thead>\n",
       "  <tbody>\n",
       "    <tr>\n",
       "      <th>125</th>\n",
       "      <td>96.3</td>\n",
       "      <td>0</td>\n",
       "      <td>70.0</td>\n",
       "    </tr>\n",
       "    <tr>\n",
       "      <th>126</th>\n",
       "      <td>97.7</td>\n",
       "      <td>0</td>\n",
       "      <td>77.0</td>\n",
       "    </tr>\n",
       "    <tr>\n",
       "      <th>127</th>\n",
       "      <td>98.2</td>\n",
       "      <td>1</td>\n",
       "      <td>73.0</td>\n",
       "    </tr>\n",
       "    <tr>\n",
       "      <th>128</th>\n",
       "      <td>97.9</td>\n",
       "      <td>0</td>\n",
       "      <td>72.0</td>\n",
       "    </tr>\n",
       "    <tr>\n",
       "      <th>129</th>\n",
       "      <td>98.7</td>\n",
       "      <td>1</td>\n",
       "      <td>59.0</td>\n",
       "    </tr>\n",
       "  </tbody>\n",
       "</table>\n",
       "</div>"
      ],
      "text/plain": [
       "     temperature  gender  heart_rate\n",
       "125         96.3       0        70.0\n",
       "126         97.7       0        77.0\n",
       "127         98.2       1        73.0\n",
       "128         97.9       0        72.0\n",
       "129         98.7       1        59.0"
      ]
     },
     "execution_count": 106,
     "metadata": {},
     "output_type": "execute_result"
    }
   ],
   "source": [
    "import pandas as pd\n",
    "\n",
    "df = pd.read_csv('data/human_body_temperature.csv')\n",
    "df['gender'].replace(\n",
    "    to_replace = ['M', 'F'],\n",
    "    value=[0,1],\n",
    "    inplace=True\n",
    ")\n",
    "df.tail()"
   ]
  },
  {
   "cell_type": "code",
   "execution_count": 12,
   "metadata": {
    "collapsed": false
   },
   "outputs": [
    {
     "data": {
      "text/plain": [
       "NormaltestResult(statistic=2.7038014333192031, pvalue=0.2587479863488254)"
      ]
     },
     "execution_count": 12,
     "metadata": {},
     "output_type": "execute_result"
    }
   ],
   "source": [
    "import scipy.stats\n",
    "temps = df['temperature'].values.tolist()\n",
    "scipy.stats.mstats.normaltest(temps)"
   ]
  },
  {
   "cell_type": "markdown",
   "metadata": {},
   "source": [
    "## Question 1\n",
    "\n",
    "From the data given the p value is much greater than the 5% threshold, thus the null hypothesis cannot be rejected and there is not enough evidence to demonstrate that the distribution of body temperatures in the total population does not follow a normal distribution. There we can assume that the sample follows a normal distribution."
   ]
  },
  {
   "cell_type": "code",
   "execution_count": 115,
   "metadata": {
    "collapsed": false
   },
   "outputs": [
    {
     "data": {
      "text/plain": [
       "<matplotlib.axes._subplots.AxesSubplot at 0x11734a9e8>"
      ]
     },
     "execution_count": 115,
     "metadata": {},
     "output_type": "execute_result"
    },
    {
     "data": {
      "image/png": "[encoded data removed]",
      "text/plain": [
       "<matplotlib.figure.Figure at 0x1179b3c18>"
      ]
     },
     "metadata": {},
     "output_type": "display_data"
    }
   ],
   "source": [
    "%matplotlib inline\n",
    "df.plot(x='heart_rate', y='temperature', kind='scatter')"
   ]
  },
  {
   "cell_type": "code",
   "execution_count": 116,
   "metadata": {
    "collapsed": false,
    "scrolled": true
   },
   "outputs": [
    {
     "data": {
      "text/plain": [
       "<matplotlib.axes._subplots.AxesSubplot at 0x1178063c8>"
      ]
     },
     "execution_count": 116,
     "metadata": {},
     "output_type": "execute_result"
    },
    {
     "data": {
      "image/png": "[encoded data removed]",
      "text/plain": [
       "<matplotlib.figure.Figure at 0x116e80c18>"
      ]
     },
     "metadata": {},
     "output_type": "display_data"
    }
   ],
   "source": [
    "df.plot(x='gender', y='temperature', kind='scatter')"
   ]
  },
  {
   "cell_type": "code",
   "execution_count": 118,
   "metadata": {
    "collapsed": false,
    "scrolled": true
   },
   "outputs": [
    {
     "data": {
      "text/plain": [
       "<matplotlib.axes._subplots.AxesSubplot at 0x116eb6080>"
      ]
     },
     "execution_count": 118,
     "metadata": {},
     "output_type": "execute_result"
    },
    {
     "data": {
      "image/png": "[encoded data removed]",
      "text/plain": [
       "<matplotlib.figure.Figure at 0x117353908>"
      ]
     },
     "metadata": {},
     "output_type": "display_data"
    }
   ],
   "source": [
    "df.plot(x='gender', y='heart_rate', kind='scatter')"
   ]
  },
  {
   "cell_type": "code",
   "execution_count": 119,
   "metadata": {
    "collapsed": false,
    "scrolled": true
   },
   "outputs": [
    {
     "data": {
      "text/plain": [
       "Power_divergenceResult(statistic=0.70580626976918936, pvalue=1.0)"
      ]
     },
     "execution_count": 119,
     "metadata": {},
     "output_type": "execute_result"
    }
   ],
   "source": [
    "scipy.stats.chisquare(temps)"
   ]
  },
  {
   "cell_type": "code",
   "execution_count": 120,
   "metadata": {
    "collapsed": false
   },
   "outputs": [
    {
     "data": {
      "text/plain": [
       "Power_divergenceResult(statistic=array([  0.70580627,  65.        ,  87.22171238]), pvalue=array([ 1.        ,  0.99999952,  0.99818125]))"
      ]
     },
     "execution_count": 120,
     "metadata": {},
     "output_type": "execute_result"
    }
   ],
   "source": [
    "scipy.stats.chisquare(df)"
   ]
  },
  {
   "cell_type": "markdown",
   "metadata": {
    "collapsed": false
   },
   "source": [
    "## Question 2\n",
    "\n",
    "A sample size of 130 is large enough and the samples are independent."
   ]
  },
  {
   "cell_type": "code",
   "execution_count": 144,
   "metadata": {
    "collapsed": false
   },
   "outputs": [
    {
     "name": "stdout",
     "output_type": "stream",
     "text": [
      "the mean temperature is:  98.2492307692\n",
      "the standard err of the sample is:  0.0643044168379\n",
      "the two tail 95% confidence t-score distribution of the sample is:  1.97852449146\n"
     ]
    }
   ],
   "source": [
    "import numpy as np\n",
    "\n",
    "mean_temp = np.mean(temps)\n",
    "std_err = scipy.stats.sem(temps)\n",
    "tscore = scipy.stats.t.ppf(1-0.025, 129)\n",
    "\n",
    "print ('the mean temperature is: ', mean_temp)\n",
    "print ('the standard err of the sample is: ', std_err)\n",
    "print ('the two tail 95% confidence t-score distribution of the sample is: ', tscore)\n"
   ]
  },
  {
   "cell_type": "code",
   "execution_count": 143,
   "metadata": {
    "collapsed": false,
    "scrolled": true
   },
   "outputs": [
    {
     "name": "stdout",
     "output_type": "stream",
     "text": [
      "We can be 95% sure that the real population mean body temperature is between 98.0667745921 and 98.4316869464\n"
     ]
    }
   ],
   "source": [
    "upper_confidence_limit = mean_temp + tscore*std_err\n",
    "lower_confidence_limit = mean_temp - tscore*std_err\n",
    "\n",
    "print('We can be 95% sure that the real population mean body temperature is between', lower_confidence_limit, 'and', upper_confidence_limit)"
   ]
  },
  {
   "cell_type": "code",
   "execution_count": 95,
   "metadata": {
    "collapsed": false
   },
   "outputs": [],
   "source": [
    "female_df = df.loc[df['gender'] == 1]\n",
    "female_temps = female_df['temperature'].values.tolist()\n",
    "male_df = df.loc[df['gender'] == 1]\n",
    "male_temps = df['temperature'].values.tolist()"
   ]
  },
  {
   "cell_type": "code",
   "execution_count": 122,
   "metadata": {
    "collapsed": false
   },
   "outputs": [
    {
     "name": "stdout",
     "output_type": "stream",
     "text": [
      "the mean temperature is:  98.3938461538\n",
      "the standard err of the sample is:  0.0922183060804\n",
      "the two tail 95% confidence t-score distribution of the sample is:  1.97852449146\n",
      "We can be 99% sure that the real population mean body temperature is between 98.2113899767 and 98.576302331\n"
     ]
    }
   ],
   "source": [
    "female_mean_temp = np.mean(female_temps)\n",
    "female_std_err = scipy.stats.sem(female_temps)\n",
    "female_tscore = scipy.stats.t.ppf(1-0.025, 129)\n",
    "\n",
    "print ('the mean temperature is: ', female_mean_temp)\n",
    "print ('the standard err of the sample is: ', female_std_err)\n",
    "print ('the two tail 95% confidence t-score distribution of the sample is: ', female_tscore)\n",
    "\n",
    "female_upper_confidence_limit = female_mean_temp + female_tscore*female_std_err\n",
    "female_lower_confidence_limit = female_mean_temp - female_tscore*female_std_err\n",
    "\n",
    "print('We can be 99% sure that the real female population mean body temperature is between', female_lower_confidence_limit, 'and', female_upper_confidence_limit)"
   ]
  },
  {
   "cell_type": "code",
   "execution_count": 141,
   "metadata": {
    "collapsed": false
   },
   "outputs": [
    {
     "name": "stdout",
     "output_type": "stream",
     "text": [
      "the mean temperature is:  98.2492307692\n",
      "the standard err of the sample is:  0.0643044168379\n",
      "the two tail 95% confidence t-score distribution of the sample is:  1.97852449146\n",
      "We can be 95% sure that the real population mean body temperature is between 98.1220029056 and 98.3764586329\n"
     ]
    }
   ],
   "source": [
    "male_mean_temp = np.mean(male_temps)\n",
    "male_std_err = scipy.stats.sem(male_temps)\n",
    "male_tscore = scipy.stats.t.ppf(1-0.025, 129)\n",
    "\n",
    "print ('the mean temperature is: ', male_mean_temp)\n",
    "print ('the standard err of the sample is: ', male_std_err)\n",
    "print ('the two tail 95% confidence t-score distribution of the sample is: ', male_tscore)\n",
    "\n",
    "male_upper_confidence_limit_z = mean_temp + zscore*std_err_z\n",
    "male_lower_confidence_limit_z = mean_temp - zscore*std_err_z\n",
    "\n",
    "print('We can be 95% sure that the real male population mean body temperature is between', male_lower_confidence_limit, 'and', male_upper_confidence_limit)\n"
   ]
  },
  {
   "cell_type": "code",
   "execution_count": 146,
   "metadata": {
    "collapsed": false
   },
   "outputs": [
    {
     "name": "stdout",
     "output_type": "stream",
     "text": [
      "the mean temperature is:  98.2492307692\n",
      "the standard deviation of the sample is:  0.730357778905\n",
      "the two tail 95% confidence z-score distribution of the sample is:  1.95996398454\n",
      "We can be 95% sure that the real population mean body temperature is between 98.1231964282 and 98.3752651103\n"
     ]
    }
   ],
   "source": [
    "# it was deemed appropriate to use the t score because we do not know the population standard deviation.\n",
    "# although the population sample was greater than 30 which means the z score could also be used\n",
    "# for demonstration purposes calculating the total population mean using the z score \n",
    "std_err_z = scipy.stats.sem(female_temps)\n",
    "mean_temp_z = np.mean(temps)\n",
    "zscore = scipy.stats.norm.ppf(.975)\n",
    "\n",
    "print ('the mean temperature is: ', mean_temp_z)\n",
    "print ('the standard deviation of the sample is: ', std_dev)\n",
    "print ('the two tail 95% confidence z-score distribution of the sample is: ', zscore)\n",
    "\n",
    "upper_confidence_limit_z = mean_temp_z + zscore*male_std_err\n",
    "lower_confidence_limit_z = mean_temp_z - zscore*male_std_err\n",
    "\n",
    "print('We can be 95% sure that the real population mean body temperature is between', lower_confidence_limit_z, 'and', upper_confidence_limit_z)\n"
   ]
  },
  {
   "cell_type": "markdown",
   "metadata": {},
   "source": [
    "## Question 3\n",
    "\n",
    "The 95% confidence interval for the population mean of body temperature is between 98.12 degrees F and 98.37 degrees F. The likelihood of the true population mean being 98.6 degrees F can therefore be discounted, but the female true population mean could be within the limits of confidence as it is on the border of the 95% confidence interval. The z score resulted in an expected tighter confidence range, but the difference between the z and t statistic were ultimately not signifiant."
   ]
  },
  {
   "cell_type": "markdown",
   "metadata": {},
   "source": [
    "## Question 4\n",
    "\n",
    "Female temperatures above 98.6 degrees F would be considered abnormal according to a 95% confidence interval. Male temperatures above 98.38 degrees F would be considered abnormal according to a 95% confidence interval."
   ]
  },
  {
   "cell_type": "code",
   "execution_count": 153,
   "metadata": {
    "collapsed": false,
    "scrolled": true
   },
   "outputs": [
    {
     "data": {
      "text/plain": [
       "Ttest_indResult(statistic=-1.2863330628904488, pvalue=0.20067562118325752)"
      ]
     },
     "execution_count": 153,
     "metadata": {},
     "output_type": "execute_result"
    }
   ],
   "source": [
    "scipy.stats.ttest_ind(male_temps, female_temps, equal_var=False)"
   ]
  },
  {
   "cell_type": "markdown",
   "metadata": {},
   "source": [
    "## Question 5\n",
    "\n",
    "From a t-statistic independence test of the male and female temperature readings the p-value is much greater than 5% and therefore we cannot reject the null hypothesis and there is no significant statistically difference between the male and female temperatures based upon this data."
   ]
  },
  {
   "cell_type": "code",
   "execution_count": 20,
   "metadata": {
    "collapsed": false
   },
   "outputs": [
    {
     "data": {
      "image/png": "[encoded data removed]",
      "text/plain": [
       "<matplotlib.figure.Figure at 0x1179d7320>"
      ]
     },
     "metadata": {},
     "output_type": "display_data"
    }
   ],
   "source": [
    "import numpy as np\n",
    "import matplotlib.mlab as mlab\n",
    "import matplotlib.pyplot as plt\n",
    "\n",
    "n, bins, patches = plt.hist(temps, 12, normed=1, facecolor='green', alpha=0.75)\n",
    "plt.show()"
   ]
  },
  {
   "cell_type": "markdown",
   "metadata": {
    "collapsed": true
   },
   "source": [
    "## Conclusion\n",
    "\n",
    "The data demonstrates that 98.6 degrees F is likely to be a statistically incorrect mean population temperature. \n"
   ]
  },
  {
   "cell_type": "code",
   "execution_count": 53,
   "metadata": {
    "collapsed": false
   },
   "outputs": [
    {
     "data": {
      "text/plain": [
       "2.3553745848044381"
      ]
     },
     "execution_count": 53,
     "metadata": {},
     "output_type": "execute_result"
    }
   ],
   "source": []
  },
  {
   "cell_type": "code",
   "execution_count": null,
   "metadata": {
    "collapsed": true
   },
   "outputs": [],
   "source": []
  }
 ],
 "metadata": {
  "anaconda-cloud": {},
  "kernelspec": {
   "display_name": "Python [conda root]",
   "language": "python",
   "name": "conda-root-py"
  },
  "language_info": {
   "codemirror_mode": {
    "name": "ipython",
    "version": 3
   },
   "file_extension": ".py",
   "mimetype": "text/x-python",
   "name": "python",
   "nbconvert_exporter": "python",
   "pygments_lexer": "ipython3",
   "version": "3.5.2"
  }
 },
 "nbformat": 4,
 "nbformat_minor": 0
}
